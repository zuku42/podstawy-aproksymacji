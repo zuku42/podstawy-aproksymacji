{
 "cells": [
  {
   "cell_type": "code",
   "execution_count": 10,
   "id": "63c6de02",
   "metadata": {},
   "outputs": [],
   "source": [
    "import os\n",
    "import glob\n",
    "\n",
    "from PIL import Image\n",
    "from skimage import io\n",
    "import numpy as np"
   ]
  },
  {
   "cell_type": "code",
   "execution_count": 3,
   "id": "84a74b2c",
   "metadata": {},
   "outputs": [],
   "source": [
    "DATASET_PATH = 'data/'\n",
    "directories = ['data_0', 'data_1']"
   ]
  },
  {
   "cell_type": "code",
   "execution_count": 4,
   "id": "5af16d9f",
   "metadata": {},
   "outputs": [],
   "source": [
    "images = []\n",
    "\n",
    "n_damaged = 0\n",
    "n_undamaged = 0\n",
    "\n",
    "for directory in directories:\n",
    "    full_img_paths = glob.glob(os.path.join(DATASET_PATH, directory, '*'))\n",
    "    for img_path in full_img_paths:\n",
    "        try:\n",
    "            image = io.imread(img_path)\n",
    "            if image.shape[0] <= image.shape[1]:\n",
    "                images.append(image)\n",
    "                n_damaged += int('1' in directory)\n",
    "                n_undamaged += int('0' in directory)\n",
    "        except ValueError:\n",
    "            continue"
   ]
  },
  {
   "cell_type": "code",
   "execution_count": 5,
   "id": "2fe34622",
   "metadata": {},
   "outputs": [
    {
     "name": "stdout",
     "output_type": "stream",
     "text": [
      "478\n",
      "231\n",
      "247\n"
     ]
    }
   ],
   "source": [
    "print(len(images))\n",
    "print(n_damaged)\n",
    "print(n_undamaged)"
   ]
  },
  {
   "cell_type": "code",
   "execution_count": 6,
   "id": "2801148e",
   "metadata": {},
   "outputs": [],
   "source": [
    "min_width = np.inf\n",
    "min_height = np.inf\n",
    "for image in images:\n",
    "    if image.shape[0] <= min_height:\n",
    "        min_height = image.shape[0]\n",
    "    if image.shape[1] <= min_width:\n",
    "        min_width = image.shape[1]\n",
    "        \n",
    "min_dimension = min(min_width, min_height)"
   ]
  },
  {
   "cell_type": "code",
   "execution_count": 7,
   "id": "ecca7f07",
   "metadata": {},
   "outputs": [
    {
     "name": "stdout",
     "output_type": "stream",
     "text": [
      "1024\n",
      "600\n"
     ]
    }
   ],
   "source": [
    "print(min_width)\n",
    "print(min_height)"
   ]
  },
  {
   "cell_type": "code",
   "execution_count": 9,
   "id": "330dd3c0",
   "metadata": {},
   "outputs": [],
   "source": [
    "cropped_images = []\n",
    "for image in images:\n",
    "    image = Image.fromarray(image)\n",
    "    width, height = image.size\n",
    "    \n",
    "    left = (width - min_dimension)/2\n",
    "    top = (height - min_dimension)/2\n",
    "    right = (width + min_dimension)/2\n",
    "    bottom = (height + min_dimension)/2\n",
    "\n",
    "    image = image.crop((left, top, right, bottom))\n",
    "    cropped_images.append(np.array(image))"
   ]
  },
  {
   "cell_type": "code",
   "execution_count": 11,
   "id": "349ea65c",
   "metadata": {},
   "outputs": [],
   "source": [
    "train_ratio = 0.8\n",
    "n_train_damaged = int(train_ratio * n_damaged)\n",
    "n_train_undamaged = int(train_ratio * n_undamaged)\n",
    "\n",
    "for i, image in enumerate(cropped_images):\n",
    "    if i < n_undamaged:\n",
    "        if i < n_train_undamaged:\n",
    "            io.imsave(f'processed_data/train/undamaged/0_{i}.png', image)\n",
    "        else:\n",
    "            io.imsave(f'processed_data/validation/undamaged/0_{i}.png', image)\n",
    "    else:\n",
    "        if i < n_undamaged + n_train_damaged:\n",
    "            io.imsave(f'processed_data/train/damaged/1_{i}.png', image)\n",
    "        else:\n",
    "            io.imsave(f'processed_data/validation/damaged/1_{i}.png', image)"
   ]
  }
 ],
 "metadata": {
  "kernelspec": {
   "display_name": "Python 3",
   "language": "python",
   "name": "python3"
  },
  "language_info": {
   "codemirror_mode": {
    "name": "ipython",
    "version": 3
   },
   "file_extension": ".py",
   "mimetype": "text/x-python",
   "name": "python",
   "nbconvert_exporter": "python",
   "pygments_lexer": "ipython3",
   "version": "3.7.3"
  }
 },
 "nbformat": 4,
 "nbformat_minor": 5
}
