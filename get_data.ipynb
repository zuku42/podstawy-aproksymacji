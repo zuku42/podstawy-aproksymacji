{
 "cells": [
  {
   "cell_type": "code",
   "execution_count": 1,
   "id": "c36f0899",
   "metadata": {},
   "outputs": [],
   "source": [
    "import time\n",
    "import requests\n",
    "from requests.exceptions import InvalidSchema\n",
    "\n",
    "from selenium import webdriver\n",
    "from selenium.webdriver.chrome.options import Options"
   ]
  },
  {
   "cell_type": "code",
   "execution_count": 28,
   "id": "126e23eb",
   "metadata": {},
   "outputs": [],
   "source": [
    "def scroll_down(driver):\n",
    "    last_height = driver.execute_script('return document.body.scrollHeight')\n",
    "    while True:\n",
    "        driver.execute_script('window.scrollTo(0,document.body.scrollHeight)')\n",
    "        time.sleep(2)\n",
    "        new_height = driver.execute_script('return document.body.scrollHeight')\n",
    "        try:\n",
    "            driver.find_element_by_xpath('//*[@id=\"islmp\"]/div/div/div/div/div[5]/input').click()\n",
    "            time.sleep(2)\n",
    "        except:\n",
    "            pass\n",
    "        if new_height == last_height:\n",
    "            break\n",
    "        last_height = new_height\n",
    "\n",
    "def search_google(search_query, images_url):\n",
    "    options = Options()\n",
    "    options.add_argument('--headless')\n",
    "    driver = webdriver.Chrome(chrome_options=options)\n",
    "    search_url = f\"https://www.google.com/search?q={search_query}&tbm=isch&tbs=isz:l\"\n",
    "\n",
    "    # open browser and accept terms and conditions\n",
    "    driver.get(search_url)\n",
    "    button = driver.find_element_by_xpath('//*[@id=\"yDmH0d\"]/c-wiz/div/div/div/div[2]/div[1]/div[3]/div[1]/div[1]/form[2]/div/div/button')\n",
    "    button.click()\n",
    "    \n",
    "    # scroll all the way down to load all images\n",
    "    scroll_down(driver)\n",
    "    elements = driver.find_elements_by_class_name('rg_i')\n",
    "    \n",
    "    count = 0\n",
    "    error_count = 0\n",
    "    for e in elements:\n",
    "        # get images source url\n",
    "        e.click()\n",
    "        time.sleep(1)\n",
    "        element = driver.find_elements_by_class_name('v4dQwb')\n",
    "\n",
    "        # Google image web site logic\n",
    "        big_img = element[int(count!=0)].find_element_by_class_name('n3VNCb')\n",
    "        \n",
    "        # write image to file\n",
    "        try:\n",
    "            image_url = big_img.get_attribute(\"src\")\n",
    "            if image_url not in images_url:\n",
    "                reponse = requests.get(image_url)\n",
    "                images_url.append(image_url)\n",
    "                with open(f\"data_000/search_p3_{len(images_url)}.jpg\",\"wb\") as file:\n",
    "                    file.write(reponse.content)\n",
    "                print(f'{len(images_url)} files(s) saved')\n",
    "                count += 1\n",
    "        except:\n",
    "            error_count += 1\n",
    "        \n",
    "        if count == 100 or error_count == 10:\n",
    "            break\n",
    "            \n",
    "    driver.close()\n",
    "    return images_url"
   ]
  },
  {
   "cell_type": "code",
   "execution_count": 1,
   "id": "617b5c39",
   "metadata": {},
   "outputs": [],
   "source": [
    "items = []\n",
    "for query in ['new car', 'used car', 'used vehicle', 'nowy samochód', 'używany samochód', 'nowe auto']:\n",
    "    items = search_google(query, items)"
   ]
  }
 ],
 "metadata": {
  "kernelspec": {
   "display_name": "Python 3",
   "language": "python",
   "name": "python3"
  },
  "language_info": {
   "codemirror_mode": {
    "name": "ipython",
    "version": 3
   },
   "file_extension": ".py",
   "mimetype": "text/x-python",
   "name": "python",
   "nbconvert_exporter": "python",
   "pygments_lexer": "ipython3",
   "version": "3.7.3"
  }
 },
 "nbformat": 4,
 "nbformat_minor": 5
}
