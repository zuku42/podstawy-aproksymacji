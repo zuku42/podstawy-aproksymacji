{
 "cells": [
  {
   "cell_type": "code",
   "execution_count": 2,
   "id": "14d4b243",
   "metadata": {
    "id": "14d4b243"
   },
   "outputs": [],
   "source": [
    "import glob\n",
    "import os\n",
    "import numpy as np\n",
    "np.random.seed(10)\n",
    "\n",
    "import cv2\n",
    "import tensorflow as tf\n",
    "\n",
    "from skimage import io\n",
    "from keras.preprocessing.image import ImageDataGenerator\n",
    "from keras.models import Sequential\n",
    "from keras.layers import Conv2D, MaxPooling2D, Activation, Dropout, Flatten, Dense\n",
    "from keras.optimizers import Adam\n",
    "from keras import backend as K\n",
    "from sklearn.metrics import accuracy_score, confusion_matrix"
   ]
  },
  {
   "cell_type": "code",
   "execution_count": 3,
   "id": "5391f1a8",
   "metadata": {
    "id": "5391f1a8"
   },
   "outputs": [],
   "source": [
    "img_width, img_height = 224, 224\n",
    "train_data_dir = 'podstawy-aproksymacji/processed_data/train'\n",
    "validation_data_dir = 'podstawy-aproksymacji/processed_data/validation'"
   ]
  },
  {
   "cell_type": "code",
   "execution_count": 4,
   "id": "d2de8a8e",
   "metadata": {
    "id": "d2de8a8e"
   },
   "outputs": [],
   "source": [
    "def get_n_files(directory):\n",
    "    count = 0\n",
    "    for _, _, files in os.walk(directory):\n",
    "        count += len(files)\n",
    "    return count"
   ]
  },
  {
   "cell_type": "code",
   "execution_count": 5,
   "id": "e0f01aff",
   "metadata": {
    "id": "e0f01aff"
   },
   "outputs": [],
   "source": [
    "# read images\n",
    "n_train_samples = get_n_files(train_data_dir)\n",
    "n_validation_samples = get_n_files(validation_data_dir)\n",
    "# training params\n",
    "epochs = 12\n",
    "batch_size = 32\n",
    "input_shape = (img_width, img_height, 3)"
   ]
  },
  {
   "cell_type": "code",
   "execution_count": 6,
   "id": "1fae1193",
   "metadata": {
    "colab": {
     "base_uri": "https://localhost:8080/"
    },
    "id": "1fae1193",
    "outputId": "a3860f2e-fdc8-4187-c1a3-e601b32e9820"
   },
   "outputs": [
    {
     "name": "stdout",
     "output_type": "stream",
     "text": [
      "Found 381 images belonging to 2 classes.\n",
      "Found 94 images belonging to 2 classes.\n"
     ]
    }
   ],
   "source": [
    "# prepare data generators\n",
    "train_datagen = ImageDataGenerator(rescale=1. / 255, shear_range=0.2, zoom_range=0.1, horizontal_flip=True)\n",
    "\n",
    "test_datagen = ImageDataGenerator(rescale=1. / 255)\n",
    "\n",
    "train_generator = train_datagen.flow_from_directory(train_data_dir, target_size=(img_width, img_height),\n",
    "                                                    batch_size=batch_size, class_mode='binary')\n",
    "\n",
    "validation_generator = test_datagen.flow_from_directory(validation_data_dir, target_size=(img_width, img_height),\n",
    "                                                        batch_size=batch_size, class_mode='binary')"
   ]
  },
  {
   "cell_type": "code",
   "execution_count": 7,
   "id": "bdbf8a5a",
   "metadata": {
    "id": "bdbf8a5a"
   },
   "outputs": [],
   "source": [
    "images = []\n",
    "\n",
    "n_damaged = 0\n",
    "n_undamaged = 0\n",
    "\n",
    "# load images from the validation directory and count the number\n",
    "# of instances belonging to each of the classes\n",
    "for directory in ['undamaged', 'damaged']:\n",
    "    full_img_paths = glob.glob(os.path.join(validation_data_dir, directory, '*'))\n",
    "    for img_path in full_img_paths:\n",
    "        try:\n",
    "            image = io.imread(img_path)\n",
    "            image = cv2.resize(image, (224, 224))\n",
    "            images.append(image.reshape(1, 224, 224, 3))\n",
    "            n_damaged += int('undamaged' not in directory)\n",
    "            n_undamaged += int('undamaged' in directory)\n",
    "        except ValueError:\n",
    "            continue\n",
    "\n",
    "images = np.vstack(images)\n",
    "images = images / 255.0"
   ]
  },
  {
   "cell_type": "code",
   "execution_count": 8,
   "id": "74e72e4f",
   "metadata": {
    "colab": {
     "base_uri": "https://localhost:8080/"
    },
    "id": "74e72e4f",
    "outputId": "55e1ff7c-31ce-4df9-c8a0-901e24ba4763",
    "scrolled": true
   },
   "outputs": [
    {
     "name": "stdout",
     "output_type": "stream",
     "text": [
      "{'damaged': 0, 'undamaged': 1}\n"
     ]
    }
   ],
   "source": [
    "# check which class is represented by 1\n",
    "class_dict = validation_generator.class_indices\n",
    "print(class_dict)"
   ]
  },
  {
   "cell_type": "code",
   "execution_count": 9,
   "id": "3c7c5cb9",
   "metadata": {
    "id": "3c7c5cb9"
   },
   "outputs": [],
   "source": [
    "# create a vector of true classes in the validation set\n",
    "y_test = n_undamaged * [class_dict['undamaged']] + n_damaged * [class_dict['damaged']]"
   ]
  },
  {
   "cell_type": "code",
   "execution_count": 10,
   "id": "7617b447",
   "metadata": {
    "colab": {
     "base_uri": "https://localhost:8080/"
    },
    "id": "7617b447",
    "outputId": "f3dd4241-c607-412e-aaff-0ad0adaae0cc"
   },
   "outputs": [
    {
     "name": "stdout",
     "output_type": "stream",
     "text": [
      "Accuracy (random model):  0.4787234042553192\n",
      "Accuracy (model always predicting the most prevalent class):  0.5212765957446809\n"
     ]
    }
   ],
   "source": [
    "# random prediction\n",
    "y_pred_random = np.random.randint(0, 1, len(images))\n",
    "\n",
    "# model that always predicts most prevalent class\n",
    "y_pred_mono = len(images) * [max(set(y_test), key=y_test.count)]\n",
    "\n",
    "# baseline accuracies\n",
    "print('Accuracy (random model): ', accuracy_score(y_test, y_pred_random))\n",
    "print('Accuracy (model always predicting the most prevalent class): ', accuracy_score(y_test, y_pred_mono))"
   ]
  },
  {
   "cell_type": "code",
   "execution_count": 11,
   "id": "GTzZT5tG1g63",
   "metadata": {
    "id": "GTzZT5tG1g63"
   },
   "outputs": [],
   "source": [
    "# model - jano\n",
    "model_jano = Sequential()\n",
    "\n",
    "model_jano.add(Conv2D(16, (3, 3), activation='relu', input_shape=input_shape))\n",
    "model_jano.add(MaxPooling2D((2, 2)))\n",
    "\n",
    "model_jano.add(Conv2D(24, (3, 3), activation='relu'))\n",
    "model_jano.add(MaxPooling2D((2, 2)))\n",
    "\n",
    "model_jano.add(Conv2D(32, (3, 3), activation='relu'))\n",
    "model_jano.add(MaxPooling2D((2, 2)))\n",
    "\n",
    "model_jano.add(Conv2D(40, (3, 3), activation='relu'))\n",
    "model_jano.add(MaxPooling2D((2, 2)))\n",
    "\n",
    "model_jano.add(Conv2D(48, (3, 3), activation='relu'))\n",
    "model_jano.add(MaxPooling2D((2, 2)))\n",
    "\n",
    "model_jano.add(Conv2D(64, (3, 3), activation='relu'))\n",
    "model_jano.add(MaxPooling2D((2, 2)))\n",
    "\n",
    "model_jano.add(Flatten())\n",
    "model_jano.add(Dense(64, activation='relu'))\n",
    "model_jano.add(Dropout(0.2))\n",
    "\n",
    "model_jano.add(Dense(1, activation='sigmoid'))"
   ]
  },
  {
   "cell_type": "code",
   "execution_count": 12,
   "id": "3mnCO8vV1g9f",
   "metadata": {
    "id": "3mnCO8vV1g9f"
   },
   "outputs": [],
   "source": [
    "optimizer_jano = Adam(learning_rate=0.001)\n",
    "model_jano.compile(loss='binary_crossentropy',\n",
    "              optimizer=optimizer_jano,\n",
    "              metrics=['accuracy'])"
   ]
  },
  {
   "cell_type": "code",
   "execution_count": 13,
   "id": "Vdrv7sGb1g_z",
   "metadata": {
    "colab": {
     "base_uri": "https://localhost:8080/"
    },
    "id": "Vdrv7sGb1g_z",
    "outputId": "ae815016-ca0e-4ca9-a330-273e72f75662"
   },
   "outputs": [
    {
     "name": "stderr",
     "output_type": "stream",
     "text": [
      "<ipython-input-13-f48d33bc8d5b>:1: UserWarning: `Model.fit_generator` is deprecated and will be removed in a future version. Please use `Model.fit`, which supports generators.\n",
      "  history_jano = model_jano.fit_generator(train_generator, steps_per_epoch=n_train_samples // batch_size, epochs=epochs,\n"
     ]
    },
    {
     "name": "stdout",
     "output_type": "stream",
     "text": [
      "Epoch 1/12\n",
      "11/11 [==============================] - 33s 3s/step - loss: 0.6940 - accuracy: 0.4957 - val_loss: 0.6913 - val_accuracy: 0.4844\n",
      "Epoch 2/12\n",
      "11/11 [==============================] - 23s 2s/step - loss: 0.6890 - accuracy: 0.5501 - val_loss: 0.6800 - val_accuracy: 0.5312\n",
      "Epoch 3/12\n",
      "11/11 [==============================] - 23s 2s/step - loss: 0.6582 - accuracy: 0.6074 - val_loss: 0.7598 - val_accuracy: 0.4844\n",
      "Epoch 4/12\n",
      "11/11 [==============================] - 21s 2s/step - loss: 0.6340 - accuracy: 0.6361 - val_loss: 0.6781 - val_accuracy: 0.5781\n",
      "Epoch 5/12\n",
      "11/11 [==============================] - 21s 2s/step - loss: 0.6085 - accuracy: 0.6819 - val_loss: 0.7383 - val_accuracy: 0.5469\n",
      "Epoch 6/12\n",
      "11/11 [==============================] - 21s 2s/step - loss: 0.6166 - accuracy: 0.6533 - val_loss: 0.6452 - val_accuracy: 0.6094\n",
      "Epoch 7/12\n",
      "11/11 [==============================] - 21s 2s/step - loss: 0.6026 - accuracy: 0.6447 - val_loss: 0.7754 - val_accuracy: 0.5469\n",
      "Epoch 8/12\n",
      "11/11 [==============================] - 21s 2s/step - loss: 0.6291 - accuracy: 0.6590 - val_loss: 0.5873 - val_accuracy: 0.6719\n",
      "Epoch 9/12\n",
      "11/11 [==============================] - 21s 2s/step - loss: 0.5751 - accuracy: 0.7335 - val_loss: 0.5735 - val_accuracy: 0.6562\n",
      "Epoch 10/12\n",
      "11/11 [==============================] - 22s 2s/step - loss: 0.5566 - accuracy: 0.7221 - val_loss: 0.5005 - val_accuracy: 0.7344\n",
      "Epoch 11/12\n",
      "11/11 [==============================] - 21s 2s/step - loss: 0.5138 - accuracy: 0.7536 - val_loss: 0.6596 - val_accuracy: 0.6875\n",
      "Epoch 12/12\n",
      "11/11 [==============================] - 21s 2s/step - loss: 0.5577 - accuracy: 0.7135 - val_loss: 0.5650 - val_accuracy: 0.7656\n"
     ]
    }
   ],
   "source": [
    "history_jano = model_jano.fit_generator(train_generator, steps_per_epoch=n_train_samples // batch_size, epochs=epochs,\n",
    "                              validation_data=validation_generator, validation_steps=n_validation_samples // batch_size)"
   ]
  },
  {
   "cell_type": "code",
   "execution_count": 14,
   "id": "7LFbGFRU1hCZ",
   "metadata": {
    "colab": {
     "base_uri": "https://localhost:8080/"
    },
    "id": "7LFbGFRU1hCZ",
    "outputId": "5101c105-ef9b-41a9-d7b4-fb73b88872e1"
   },
   "outputs": [
    {
     "name": "stdout",
     "output_type": "stream",
     "text": [
      "3/3 [==============================] - 1s 310ms/step\n"
     ]
    }
   ],
   "source": [
    "# make predictions using trained model jano\n",
    "y_pred_jano = np.where(model_jano.predict(images) > 0.5, 1, 0)"
   ]
  },
  {
   "cell_type": "code",
   "execution_count": 15,
   "id": "dv-XXcr51hFQ",
   "metadata": {
    "colab": {
     "base_uri": "https://localhost:8080/"
    },
    "id": "dv-XXcr51hFQ",
    "outputId": "1b9ac9b0-c967-4e2c-bd2d-f35ab06aed52"
   },
   "outputs": [
    {
     "name": "stdout",
     "output_type": "stream",
     "text": [
      "Model JANO accuracy:  0.7659574468085106\n",
      "[[40  5]\n",
      " [17 32]]\n"
     ]
    }
   ],
   "source": [
    "# model jano results\n",
    "print('Model JANO accuracy: ', accuracy_score(y_test, y_pred_jano))\n",
    "print(confusion_matrix(y_test, y_pred_jano))"
   ]
  },
  {
   "cell_type": "code",
   "execution_count": 16,
   "id": "twhMG-JY1hH4",
   "metadata": {
    "id": "twhMG-JY1hH4"
   },
   "outputs": [],
   "source": [
    "# model - ania\n",
    "model_ania = Sequential()\n",
    "\n",
    "model_ania.add(Conv2D(32, (3, 3), activation='relu', input_shape=input_shape))\n",
    "model_ania.add(MaxPooling2D((2, 2)))\n",
    "model_ania.add(Dropout(0.1))\n",
    "\n",
    "model_ania.add(Conv2D(48, (3, 3), activation='relu', input_shape=input_shape))\n",
    "model_ania.add(MaxPooling2D((2, 2)))\n",
    "model_ania.add(Dropout(0.1))\n",
    "\n",
    "model_ania.add(Conv2D(64, (3, 3), activation='relu'))\n",
    "model_ania.add(MaxPooling2D((2, 2)))\n",
    "model_ania.add(Dropout(0.1))\n",
    "\n",
    "model_ania.add(Flatten())\n",
    "model_ania.add(Dense(64, activation='relu'))\n",
    "model_ania.add(Dropout(0.2))\n",
    "\n",
    "model_ania.add(Dense(1, activation='sigmoid'))"
   ]
  },
  {
   "cell_type": "code",
   "execution_count": 17,
   "id": "wCuKdwaF1hKM",
   "metadata": {
    "id": "wCuKdwaF1hKM"
   },
   "outputs": [],
   "source": [
    "optimizer_ania = Adam(learning_rate=0.001)\n",
    "model_ania.compile(loss='binary_crossentropy',\n",
    "              optimizer=optimizer_ania,\n",
    "              metrics=['accuracy'])"
   ]
  },
  {
   "cell_type": "code",
   "execution_count": 18,
   "id": "MNY14bt61hMS",
   "metadata": {
    "colab": {
     "base_uri": "https://localhost:8080/"
    },
    "id": "MNY14bt61hMS",
    "outputId": "4ce860e6-9c70-4255-bfdb-fcab1d7211ab"
   },
   "outputs": [
    {
     "name": "stderr",
     "output_type": "stream",
     "text": [
      "<ipython-input-18-b86a40f6542d>:1: UserWarning: `Model.fit_generator` is deprecated and will be removed in a future version. Please use `Model.fit`, which supports generators.\n",
      "  history_ania = model_ania.fit_generator(train_generator, steps_per_epoch=n_train_samples // batch_size, epochs=epochs,\n"
     ]
    },
    {
     "name": "stdout",
     "output_type": "stream",
     "text": [
      "Epoch 1/12\n",
      "11/11 [==============================] - 34s 3s/step - loss: 0.9298 - accuracy: 0.5215 - val_loss: 0.6879 - val_accuracy: 0.5156\n",
      "Epoch 2/12\n",
      "11/11 [==============================] - 33s 3s/step - loss: 0.6880 - accuracy: 0.5483 - val_loss: 0.6859 - val_accuracy: 0.5781\n",
      "Epoch 3/12\n",
      "11/11 [==============================] - 33s 3s/step - loss: 0.6830 - accuracy: 0.5244 - val_loss: 0.6847 - val_accuracy: 0.7031\n",
      "Epoch 4/12\n",
      "11/11 [==============================] - 33s 3s/step - loss: 0.6558 - accuracy: 0.6307 - val_loss: 0.6345 - val_accuracy: 0.7500\n",
      "Epoch 5/12\n",
      "11/11 [==============================] - 34s 3s/step - loss: 0.5866 - accuracy: 0.6848 - val_loss: 0.6063 - val_accuracy: 0.6875\n",
      "Epoch 6/12\n",
      "11/11 [==============================] - 33s 3s/step - loss: 0.5613 - accuracy: 0.7106 - val_loss: 0.5561 - val_accuracy: 0.7188\n",
      "Epoch 7/12\n",
      "11/11 [==============================] - 33s 3s/step - loss: 0.5167 - accuracy: 0.7564 - val_loss: 0.5962 - val_accuracy: 0.6406\n",
      "Epoch 8/12\n",
      "11/11 [==============================] - 33s 3s/step - loss: 0.4955 - accuracy: 0.7650 - val_loss: 0.5056 - val_accuracy: 0.7500\n",
      "Epoch 9/12\n",
      "11/11 [==============================] - 33s 3s/step - loss: 0.5008 - accuracy: 0.7880 - val_loss: 0.5356 - val_accuracy: 0.7969\n",
      "Epoch 10/12\n",
      "11/11 [==============================] - 33s 3s/step - loss: 0.4552 - accuracy: 0.8080 - val_loss: 0.6523 - val_accuracy: 0.6875\n",
      "Epoch 11/12\n",
      "11/11 [==============================] - 33s 3s/step - loss: 0.4382 - accuracy: 0.8023 - val_loss: 0.5489 - val_accuracy: 0.7500\n",
      "Epoch 12/12\n",
      "11/11 [==============================] - 34s 3s/step - loss: 0.3684 - accuracy: 0.8510 - val_loss: 0.6081 - val_accuracy: 0.6875\n"
     ]
    }
   ],
   "source": [
    "history_ania = model_ania.fit_generator(train_generator, steps_per_epoch=n_train_samples // batch_size, epochs=epochs,\n",
    "                              validation_data=validation_generator, validation_steps=n_validation_samples // batch_size)"
   ]
  },
  {
   "cell_type": "code",
   "execution_count": 19,
   "id": "BqHymWuM2FQC",
   "metadata": {
    "colab": {
     "base_uri": "https://localhost:8080/"
    },
    "id": "BqHymWuM2FQC",
    "outputId": "81b160bb-1dab-421d-ab1f-40b73a930ad1"
   },
   "outputs": [
    {
     "name": "stdout",
     "output_type": "stream",
     "text": [
      "3/3 [==============================] - 2s 501ms/step\n"
     ]
    }
   ],
   "source": [
    "y_pred_ania = np.where(model_ania.predict(images) > 0.5, 1, 0)"
   ]
  },
  {
   "cell_type": "code",
   "execution_count": 20,
   "id": "x7J13Wam2FSo",
   "metadata": {
    "colab": {
     "base_uri": "https://localhost:8080/"
    },
    "id": "x7J13Wam2FSo",
    "outputId": "7177e2ef-8671-4d77-afb4-e4f352e8b56d"
   },
   "outputs": [
    {
     "name": "stdout",
     "output_type": "stream",
     "text": [
      "Model ANIA accuracy:  0.7021276595744681\n",
      "[[25 20]\n",
      " [ 8 41]]\n"
     ]
    }
   ],
   "source": [
    "# model ania results\n",
    "print('Model ANIA accuracy: ', accuracy_score(y_test, y_pred_ania))\n",
    "print(confusion_matrix(y_test, y_pred_ania))"
   ]
  },
  {
   "cell_type": "code",
   "execution_count": 21,
   "id": "TOHvPXuH2FVR",
   "metadata": {
    "id": "TOHvPXuH2FVR"
   },
   "outputs": [],
   "source": [
    "# model - zuku\n",
    "\n",
    "model_zuku = Sequential()\n",
    "\n",
    "model_zuku.add(Conv2D(32, (3, 3), activation='relu', input_shape=input_shape))\n",
    "model_zuku.add(MaxPooling2D((2, 2)))\n",
    "\n",
    "model_zuku.add(Conv2D(64, (3, 3), activation='relu'))\n",
    "model_zuku.add(MaxPooling2D((2, 2)))\n",
    "\n",
    "model_zuku.add(Flatten())\n",
    "model_zuku.add(Dense(64, activation='relu'))\n",
    "model_zuku.add(Dropout(0.2))\n",
    "\n",
    "model_zuku.add(Dense(1, activation='sigmoid'))"
   ]
  },
  {
   "cell_type": "code",
   "execution_count": 22,
   "id": "O1_pBaeO2FXm",
   "metadata": {
    "id": "O1_pBaeO2FXm"
   },
   "outputs": [],
   "source": [
    "optimizer_zuku = Adam(learning_rate=0.001)\n",
    "model_zuku.compile(loss='binary_crossentropy',\n",
    "              optimizer=optimizer_zuku,\n",
    "              metrics=['accuracy'])"
   ]
  },
  {
   "cell_type": "code",
   "execution_count": 23,
   "id": "ilJAHt0m2Fac",
   "metadata": {
    "colab": {
     "base_uri": "https://localhost:8080/"
    },
    "id": "ilJAHt0m2Fac",
    "outputId": "cb78dcef-a327-4216-80e2-83f01ae2a3ba"
   },
   "outputs": [
    {
     "name": "stderr",
     "output_type": "stream",
     "text": [
      "<ipython-input-23-4cf183f6234b>:1: UserWarning: `Model.fit_generator` is deprecated and will be removed in a future version. Please use `Model.fit`, which supports generators.\n",
      "  history_zuku = model_zuku.fit_generator(train_generator, steps_per_epoch=n_train_samples // batch_size, epochs=epochs,\n"
     ]
    },
    {
     "name": "stdout",
     "output_type": "stream",
     "text": [
      "Epoch 1/12\n",
      "11/11 [==============================] - 31s 3s/step - loss: 2.6240 - accuracy: 0.4928 - val_loss: 0.6903 - val_accuracy: 0.5625\n",
      "Epoch 2/12\n",
      "11/11 [==============================] - 30s 3s/step - loss: 0.6718 - accuracy: 0.5845 - val_loss: 0.6304 - val_accuracy: 0.6719\n",
      "Epoch 3/12\n",
      "11/11 [==============================] - 30s 3s/step - loss: 0.6134 - accuracy: 0.6791 - val_loss: 0.6151 - val_accuracy: 0.7031\n",
      "Epoch 4/12\n",
      "11/11 [==============================] - 30s 3s/step - loss: 0.5636 - accuracy: 0.7163 - val_loss: 0.5670 - val_accuracy: 0.7031\n",
      "Epoch 5/12\n",
      "11/11 [==============================] - 30s 3s/step - loss: 0.4877 - accuracy: 0.7822 - val_loss: 0.6453 - val_accuracy: 0.7031\n",
      "Epoch 6/12\n",
      "11/11 [==============================] - 30s 3s/step - loss: 0.4247 - accuracy: 0.8109 - val_loss: 0.7514 - val_accuracy: 0.6719\n",
      "Epoch 7/12\n",
      "11/11 [==============================] - 31s 3s/step - loss: 0.4588 - accuracy: 0.7880 - val_loss: 0.6196 - val_accuracy: 0.7500\n",
      "Epoch 8/12\n",
      "11/11 [==============================] - 30s 3s/step - loss: 0.3737 - accuracy: 0.8510 - val_loss: 0.7110 - val_accuracy: 0.6719\n",
      "Epoch 9/12\n",
      "11/11 [==============================] - 30s 3s/step - loss: 0.4046 - accuracy: 0.8138 - val_loss: 0.6575 - val_accuracy: 0.6719\n",
      "Epoch 10/12\n",
      "11/11 [==============================] - 30s 3s/step - loss: 0.3397 - accuracy: 0.8739 - val_loss: 0.6807 - val_accuracy: 0.7656\n",
      "Epoch 11/12\n",
      "11/11 [==============================] - 30s 3s/step - loss: 0.3790 - accuracy: 0.8195 - val_loss: 0.7733 - val_accuracy: 0.6875\n",
      "Epoch 12/12\n",
      "11/11 [==============================] - 30s 3s/step - loss: 0.3103 - accuracy: 0.8768 - val_loss: 0.5813 - val_accuracy: 0.7969\n"
     ]
    }
   ],
   "source": [
    "history_zuku = model_zuku.fit_generator(train_generator, steps_per_epoch=n_train_samples // batch_size, epochs=epochs,\n",
    "                              validation_data=validation_generator, validation_steps=n_validation_samples // batch_size)"
   ]
  },
  {
   "cell_type": "code",
   "execution_count": 24,
   "id": "trSENxym2Fd9",
   "metadata": {
    "colab": {
     "base_uri": "https://localhost:8080/"
    },
    "id": "trSENxym2Fd9",
    "outputId": "b6e4c54c-1757-40e0-aeee-69a96fcfa9aa"
   },
   "outputs": [
    {
     "name": "stdout",
     "output_type": "stream",
     "text": [
      "3/3 [==============================] - 2s 499ms/step\n"
     ]
    }
   ],
   "source": [
    "# make predictions using trained model zuku\n",
    "y_pred_zuku = np.where(model_zuku.predict(images) > 0.5, 1, 0)"
   ]
  },
  {
   "cell_type": "code",
   "execution_count": 25,
   "id": "Axt8cE9QG5Z0",
   "metadata": {
    "colab": {
     "base_uri": "https://localhost:8080/"
    },
    "id": "Axt8cE9QG5Z0",
    "outputId": "b2c59153-0b91-496d-80e1-5af2e719f168"
   },
   "outputs": [
    {
     "name": "stdout",
     "output_type": "stream",
     "text": [
      "Model ZUKU accuracy:  0.776595744680851\n",
      "[[35 10]\n",
      " [11 38]]\n"
     ]
    }
   ],
   "source": [
    "# model zuku results\n",
    "print('Model ZUKU accuracy: ', accuracy_score(y_test, y_pred_zuku))\n",
    "print(confusion_matrix(y_test, y_pred_zuku))"
   ]
  },
  {
   "cell_type": "code",
   "execution_count": 26,
   "id": "MW4a-GhMG6ND",
   "metadata": {
    "id": "MW4a-GhMG6ND"
   },
   "outputs": [],
   "source": [
    "# create roc curve and auc\n",
    "from sklearn.metrics import roc_curve, auc"
   ]
  },
  {
   "cell_type": "code",
   "execution_count": 27,
   "id": "KhKGrMxpAhs2",
   "metadata": {
    "colab": {
     "base_uri": "https://localhost:8080/"
    },
    "id": "KhKGrMxpAhs2",
    "outputId": "2f601223-26cb-4d24-bd74-8bc87b509ccd"
   },
   "outputs": [
    {
     "name": "stdout",
     "output_type": "stream",
     "text": [
      "3/3 [==============================] - 1s 315ms/step\n",
      "3/3 [==============================] - 2s 498ms/step\n",
      "3/3 [==============================] - 2s 487ms/step\n"
     ]
    }
   ],
   "source": [
    "# calculate roc for every model\n",
    "fpr_jano, tpr_jano, thresholds_jano = roc_curve(y_test, model_jano.predict(images).ravel())\n",
    "fpr_ania, tpr_ania, thresholds_ania = roc_curve(y_test, model_ania.predict(images).ravel())\n",
    "fpr_zuku, tpr_zuku, thresholds_zuku = roc_curve(y_test, model_zuku.predict(images).ravel())"
   ]
  },
  {
   "cell_type": "code",
   "execution_count": 28,
   "id": "8zVv5x_RTkx4",
   "metadata": {
    "id": "8zVv5x_RTkx4"
   },
   "outputs": [],
   "source": [
    "# calculate auc\n",
    "auc_jano = auc(fpr_jano, tpr_jano)\n",
    "auc_ania = auc(fpr_ania, tpr_ania)\n",
    "auc_zuku = auc(fpr_zuku, tpr_zuku)"
   ]
  },
  {
   "cell_type": "code",
   "execution_count": 29,
   "id": "myY0NXDiTmWH",
   "metadata": {
    "id": "myY0NXDiTmWH"
   },
   "outputs": [],
   "source": [
    "import matplotlib.pyplot as plt"
   ]
  },
  {
   "cell_type": "code",
   "execution_count": 30,
   "id": "PmXgFeqOT3gE",
   "metadata": {
    "colab": {
     "base_uri": "https://localhost:8080/",
     "height": 685
    },
    "id": "PmXgFeqOT3gE",
    "outputId": "b5b91b29-7e43-4bef-9def-1cc90ba4c797"
   },
   "outputs": [
    {
     "data": {
      "image/png": "[encoded data removed]",
      "text/plain": [
       "<Figure size 1120x800 with 1 Axes>"
      ]
     },
     "metadata": {
      "needs_background": "light"
     },
     "output_type": "display_data"
    }
   ],
   "source": [
    "plt.figure(figsize=(14, 10), dpi=80)\n",
    "plt.plot([0, 1], [0, 1], 'k--')\n",
    "plt.plot(fpr_jano, tpr_jano, label='JANO (area = {:.3f})'.format(auc_jano))\n",
    "plt.plot(fpr_ania, tpr_ania, label='ANIA (area = {:.3f})'.format(auc_ania))\n",
    "plt.plot(fpr_zuku, tpr_zuku, label='ZUKU (area = {:.3f})'.format(auc_zuku))\n",
    "plt.xlabel('False positive rate')\n",
    "plt.ylabel('True positive rate')\n",
    "plt.title('ROC curve')\n",
    "plt.legend(loc='best')\n",
    "plt.show()"
   ]
  }
 ],
 "metadata": {
  "colab": {
   "provenance": [],
   "toc_visible": true
  },
  "kernelspec": {
   "display_name": "Python 3",
   "language": "python",
   "name": "python3"
  },
  "language_info": {
   "codemirror_mode": {
    "name": "ipython",
    "version": 3
   },
   "file_extension": ".py",
   "mimetype": "text/x-python",
   "name": "python",
   "nbconvert_exporter": "python",
   "pygments_lexer": "ipython3",
   "version": "3.7.3"
  }
 },
 "nbformat": 4,
 "nbformat_minor": 5
}